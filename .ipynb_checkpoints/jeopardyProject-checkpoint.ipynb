{
 "cells": [
  {
   "cell_type": "markdown",
   "id": "cecb6921",
   "metadata": {},
   "source": [
    "# Jeopardy Project \n",
    "## Project provided by Codecademy\n",
    "### Goals: \"You will work to write several functions that investigate a dataset of Jeopardy! questions and answers. Filter the dataset for topics that you’re interested in, compute the average difficulty of those questions, and train to become the next Jeopardy champion!\""
   ]
  },
  {
   "cell_type": "code",
   "execution_count": 1,
   "id": "00cd21be",
   "metadata": {},
   "outputs": [],
   "source": [
    "import pandas as pd\n",
    "import random\n",
    "\n",
    "#Loading data\n",
    "jeopardy = pd.read_csv('jeopardy.csv')"
   ]
  },
  {
   "cell_type": "code",
   "execution_count": 2,
   "id": "2e4601e5",
   "metadata": {},
   "outputs": [
    {
     "name": "stdout",
     "output_type": "stream",
     "text": [
      "   Show Number    Air Date      Round                         Category  Value  \\\n",
      "0         4680  2004-12-31  Jeopardy!                          HISTORY   $200   \n",
      "1         4680  2004-12-31  Jeopardy!  ESPN's TOP 10 ALL-TIME ATHLETES   $200   \n",
      "2         4680  2004-12-31  Jeopardy!      EVERYBODY TALKS ABOUT IT...   $200   \n",
      "3         4680  2004-12-31  Jeopardy!                 THE COMPANY LINE   $200   \n",
      "4         4680  2004-12-31  Jeopardy!              EPITAPHS & TRIBUTES   $200   \n",
      "\n",
      "                                            Question      Answer  \n",
      "0  For the last 8 years of his life, Galileo was ...  Copernicus  \n",
      "1  No. 2: 1912 Olympian; football star at Carlisl...  Jim Thorpe  \n",
      "2  The city of Yuma in this state has a record av...     Arizona  \n",
      "3  In 1963, live on \"The Art Linkletter Show\", th...  McDonald's  \n",
      "4  Signer of the Dec. of Indep., framer of the Co...  John Adams  \n",
      "   show_number    air_date      round                         category value  \\\n",
      "0         4680  2004-12-31  Jeopardy!                          HISTORY  $200   \n",
      "1         4680  2004-12-31  Jeopardy!  ESPN's TOP 10 ALL-TIME ATHLETES  $200   \n",
      "2         4680  2004-12-31  Jeopardy!      EVERYBODY TALKS ABOUT IT...  $200   \n",
      "3         4680  2004-12-31  Jeopardy!                 THE COMPANY LINE  $200   \n",
      "4         4680  2004-12-31  Jeopardy!              EPITAPHS & TRIBUTES  $200   \n",
      "\n",
      "                                            question      answer  \n",
      "0  For the last 8 years of his life, Galileo was ...  Copernicus  \n",
      "1  No. 2: 1912 Olympian; football star at Carlisl...  Jim Thorpe  \n",
      "2  The city of Yuma in this state has a record av...     Arizona  \n",
      "3  In 1963, live on \"The Art Linkletter Show\", th...  McDonald's  \n",
      "4  Signer of the Dec. of Indep., framer of the Co...  John Adams  \n"
     ]
    }
   ],
   "source": [
    "#Inspecting Data\n",
    "print(jeopardy.head())\n",
    "\n",
    "#Renaming columns so that they have proper variable names and making them all lowercase\n",
    "jeopardy.columns = jeopardy.columns.str.lower()\n",
    "jeopardy.rename(columns={'show number': 'show_number', ' air date': 'air_date'}, inplace = True)\n",
    "\n",
    "#Removing the leading space in the column names\n",
    "jeopardy.columns = jeopardy.columns.str.replace(' ', '')\n",
    "\n",
    "print(jeopardy.head())"
   ]
  },
  {
   "cell_type": "code",
   "execution_count": 3,
   "id": "fc0b9f59",
   "metadata": {},
   "outputs": [
    {
     "name": "stdout",
     "output_type": "stream",
     "text": [
      "        show_number    air_date             round                   category  \\\n",
      "3723           4398  2003-10-22         Jeopardy!                      OPERA   \n",
      "4970           3003  1997-09-24  Double Jeopardy!            MUSICAL THEATRE   \n",
      "12286          5332  2007-11-13  Double Jeopardy!                      OPERA   \n",
      "14315          1429  1990-11-15  Double Jeopardy!                      OPERA   \n",
      "15951          3660  2000-06-30         Jeopardy!            NEWS FLASH 1896   \n",
      "28387          4714  2005-02-17  Double Jeopardy!                      OPERA   \n",
      "42342          1605  1991-07-19  Double Jeopardy!                DOUBLE TALK   \n",
      "43529          6131  2011-04-18         Jeopardy!       BACKSTAGE AT THE MET   \n",
      "52465          1871  1992-10-26  Double Jeopardy!                 OLD MOVIES   \n",
      "53669          5138  2007-01-03  Double Jeopardy!           OPERA CHARACTERS   \n",
      "55270          5201  2007-04-02  Double Jeopardy!       AN OPERATIC CATEGORY   \n",
      "55711          2929  1997-05-01  Double Jeopardy!           OPERATIC DEMISES   \n",
      "55892          3286  1998-12-14  Double Jeopardy!                      OPERA   \n",
      "56946          4896  2005-12-19  Double Jeopardy!                      OPERA   \n",
      "58294          3654  2000-06-22  Double Jeopardy!        CROSSWORD CLUES \"T\"   \n",
      "60116          5483  2008-06-11  Double Jeopardy!                      OPERA   \n",
      "68794          5931  2010-05-31  Double Jeopardy!           ARE YOU AN -INI?   \n",
      "72653          3805  2001-03-02  Double Jeopardy!           SCRAMBLED OPERAS   \n",
      "76747          3233  1998-09-30  Double Jeopardy!             OPERA & BALLET   \n",
      "85802          5353  2007-12-12  Double Jeopardy!                      OPERA   \n",
      "91388          3356  1999-03-22  Double Jeopardy!                      OPERA   \n",
      "110152         5093  2006-11-01  Double Jeopardy!             OPERA SETTINGS   \n",
      "113836         3852  2001-05-08         Jeopardy!            THE EARLY 1900s   \n",
      "119379         5603  2009-01-07  Double Jeopardy!           ALL THINGS OPERA   \n",
      "123267         2352  1994-11-22  Double Jeopardy!                      OPERA   \n",
      "130288         5883  2010-03-24  Double Jeopardy!  COMPLETES THE OPERA TITLE   \n",
      "131195         5091  2006-10-30  Double Jeopardy!                      OPERA   \n",
      "133555         4290  2003-04-04  Double Jeopardy!                      OPERA   \n",
      "143393         1882  1992-11-10         Jeopardy!                      OPERA   \n",
      "147564         6099  2011-03-03  Double Jeopardy!     THE SYDNEY OPERA HOUSE   \n",
      "160568         4210  2002-12-13  Double Jeopardy!                      OPERA   \n",
      "160884         3246  1998-10-19  Double Jeopardy!            PLACIDO DOMINGO   \n",
      "163066         5616  2009-01-26  Double Jeopardy!                OPERA WOMEN   \n",
      "164941         2856  1997-01-20  Double Jeopardy!                      OPERA   \n",
      "170851         3347  1999-03-09  Double Jeopardy!   GHASTLY OPERATIC DEMISES   \n",
      "179275         3539  2000-01-13  Double Jeopardy!                      OPERA   \n",
      "185046         5176  2007-02-26  Double Jeopardy!                      OPERA   \n",
      "185416         5316  2007-10-22  Double Jeopardy!              REARRANGE 'EM   \n",
      "189393         5381  2008-01-21  Double Jeopardy!                OPERA NAMES   \n",
      "216925         4999  2006-05-11  Double Jeopardy!             RIDDLE ME THIS   \n",
      "\n",
      "         value                                           question  \\\n",
      "3723      $800  Musetta has her very own waltz in Act II of th...   \n",
      "4970      $800  The rock opera \"Rent\" is a reworking of this P...   \n",
      "12286    $1200           Puccini's last opera, it's set in Peking   \n",
      "14315    $1000  Drops of blood from the ceiling reveal where a...   \n",
      "15951     $500  A tale of doomed & impoverished artists, this ...   \n",
      "28387    $1600  In a Puccini opera, he marries then abandons C...   \n",
      "42342     $600  This maker of artificial flowers is in love wi...   \n",
      "43529     $800  (<a href=\"http://www.j-archive.com/media/2011-...   \n",
      "52465     $800  In 1932 Cary Grant played Lt. Pinkerton in a n...   \n",
      "53669    $2000  Busoni's opera about this cruel Chinese prince...   \n",
      "55270     $800  This Puccini opera set in Paris was first prod...   \n",
      "55711     $800  Distraught that Lt. Pinkerton abandoned her, t...   \n",
      "55892    $1000  Puccini opera that features the prelude heard ...   \n",
      "56946     $400  Puccini included a passage from \"The Star-Span...   \n",
      "58294    $1000                   Puccini's Pekingese princess (8)   \n",
      "60116     $800  A flop when it debuted in 1904, this Puccini o...   \n",
      "68794   $2,000  His last name begins with the 5-letter title o...   \n",
      "72653     $600                              Puccini: \"Oh Be Lame\"   \n",
      "76747    $1000  Last name of the gossip in Menotti's \"The Old ...   \n",
      "85802     $400  Rodolfo burns his poems to keep the stove goin...   \n",
      "91388     $600  Puccini's \"Madama Butterfly\" takes place in th...   \n",
      "110152   $2000  This Puccini opera takes place in California d...   \n",
      "113836    $500  This 1904 Puccini opera partly inspired a 1980...   \n",
      "119379   $1600  The role Placido Domingo has played more than ...   \n",
      "123267    $400  Title shared by the Puccini and Leoncavallo op...   \n",
      "130288    $800             Puccini: \"The Girl of the Golden ____\"   \n",
      "131195   $1600  In operas by Massenet & Puccini, it's the give...   \n",
      "133555   $2000  This Puccini title heroine's first name is Floria   \n",
      "143393    $200  Both Stravinsky's \"The Nightingale\" & Puccini'...   \n",
      "147564   $2000  (<a href=\"http://www.j-archive.com/media/2011-...   \n",
      "160568    $800  Much of this Puccini opera takes place in a ca...   \n",
      "160884    $800  Placido has conducted this Puccini opera, as w...   \n",
      "163066   $1600  How convenient--the title character of this Pu...   \n",
      "164941    $400  In this Puccini work, Sharpless, the American ...   \n",
      "170851    $800  After she stabs Scarpia, this Puccini heroine ...   \n",
      "179275    $800  In a Puccini opera, this prima donna is pursue...   \n",
      "185046    $800  The title of this Puccini opera deals with a p...   \n",
      "185416   $1600                Wear an ascot to this Puccini opera   \n",
      "189393    $400  The title figure of this Puccini opera is Cio-...   \n",
      "216925   $2000  This Puccini opera turns on the solution to 3 ...   \n",
      "\n",
      "                             answer  \n",
      "3723                      La boheme  \n",
      "4970                    \"La Boheme\"  \n",
      "12286                      Turandot  \n",
      "14315   The Girl of the Golden West  \n",
      "15951                   \"La boheme\"  \n",
      "28387                     Pinkerton  \n",
      "42342                          Mimì  \n",
      "43529                     La bohème  \n",
      "52465              Madame Butterfly  \n",
      "53669                      Turandot  \n",
      "55270                     La boheme  \n",
      "55711              Madame Butterfly  \n",
      "55892              Madama Butterfly  \n",
      "56946              Madame Butterfly  \n",
      "58294                      Turandot  \n",
      "60116              Madame Butterfly  \n",
      "68794            (Arturo) Toscanini  \n",
      "72653                     La bohème  \n",
      "76747                     Pinkerton  \n",
      "85802                     La Boheme  \n",
      "91388                         Japan  \n",
      "110152  The Girl of the Golden West  \n",
      "113836             Madame Butterfly  \n",
      "119379                        Tosca  \n",
      "123267                    La bohème  \n",
      "130288                         West  \n",
      "131195                        Manon  \n",
      "133555                        Tosca  \n",
      "143393                        China  \n",
      "147564             (Kiri Te) Kanawa  \n",
      "160568                    La boheme  \n",
      "160884                    La bohème  \n",
      "163066                        Tosca  \n",
      "164941           \"Madame Butterfly\"  \n",
      "170851                        Tosca  \n",
      "179275                      \"Tosca\"  \n",
      "185046                    La bohème  \n",
      "185416           Tosca (from ascot)  \n",
      "189393             Madame Butterfly  \n",
      "216925                     Turandot  \n"
     ]
    }
   ],
   "source": [
    "#Function that filters the datset for questions that contains all the words in a list\n",
    "def words_in_question(words):\n",
    "    for word in words:\n",
    "        questions = jeopardy[jeopardy['question'].str.contains(word)]\n",
    "    return questions\n",
    "\n",
    "# Testing words_in_question fucntion\n",
    "print(words_in_question(['Puccini']))\n"
   ]
  },
  {
   "cell_type": "code",
   "execution_count": 4,
   "id": "807c793f",
   "metadata": {},
   "outputs": [
    {
     "data": {
      "text/plain": [
       "764.9599636561875"
      ]
     },
     "execution_count": 4,
     "metadata": {},
     "output_type": "execute_result"
    }
   ],
   "source": [
    "#Adding a column for question value as a float for computation\n",
    "jeopardy['value_float'] = jeopardy['value'].str.replace('$', '', regex=True)\n",
    "jeopardy['value_float'] = jeopardy['value_float'].str.replace(',', '', regex=True)\n",
    "jeopardy['value_float'] = pd.to_numeric(jeopardy['value_float'], errors='coerce')\n",
    "\n",
    "#Function to see the difficulty on different topics\n",
    "\n",
    "def difficulty(words):\n",
    "    topic = words_in_question(words)\n",
    "    average = topic.value_float.mean()\n",
    "    return average\n",
    "\n",
    "#Testing difficulty function\n",
    "difficulty('King')"
   ]
  },
  {
   "cell_type": "code",
   "execution_count": 5,
   "id": "9ad3fe71",
   "metadata": {},
   "outputs": [
    {
     "name": "stdout",
     "output_type": "stream",
     "text": [
      "Sweden                  19\n",
      "Norway                  11\n",
      "Scotland                11\n",
      "Denmark                 10\n",
      "Morocco                 10\n",
      "                        ..\n",
      "Ferris Bueller           1\n",
      "The Three Musketeers     1\n",
      "Indus                    1\n",
      "Cobras                   1\n",
      "\"The Dark Tower\"         1\n",
      "Name: answer, Length: 1115, dtype: int64\n"
     ]
    }
   ],
   "source": [
    "# Function to get the count of all unique answers for questions containing certain words\n",
    "def get_answer_counts(words):\n",
    "    topic = words_in_question(words)\n",
    "    return topic['answer'].value_counts()\n",
    "\n",
    "# Testing get_answer_counts function\n",
    "print(get_answer_counts(['King']))"
   ]
  },
  {
   "cell_type": "markdown",
   "id": "4f470ce0",
   "metadata": {},
   "source": [
    "## Quiz yourself with the dataset!"
   ]
  },
  {
   "cell_type": "code",
   "execution_count": 23,
   "id": "583d9f5e",
   "metadata": {},
   "outputs": [
    {
     "name": "stdout",
     "output_type": "stream",
     "text": [
      "She won an Oscar for her portrayal of waitress Alice Hyatt Burstyn\n",
      "Burstyn is correct!\n"
     ]
    }
   ],
   "source": [
    "#Function to quiz yourself\n",
    "def quiz_me(data):\n",
    "    question_index = random.randint(0, len(data))\n",
    "    guess = input(data.question[question_index] + ' ')\n",
    "    if data.answer[question_index] in guess or guess in data.answer[question_index]:\n",
    "        print(guess + \" is correct!\")\n",
    "    else:\n",
    "        print(\"Incorrect. \" + data.answer[question_index] + \" is the correct response.\")\n",
    "    return \n",
    "\n",
    "#Running the function\n",
    "quiz_me(jeopardy)"
   ]
  }
 ],
 "metadata": {
  "kernelspec": {
   "display_name": "Python 3",
   "language": "python",
   "name": "python3"
  },
  "language_info": {
   "codemirror_mode": {
    "name": "ipython",
    "version": 3
   },
   "file_extension": ".py",
   "mimetype": "text/x-python",
   "name": "python",
   "nbconvert_exporter": "python",
   "pygments_lexer": "ipython3",
   "version": "3.8.8"
  }
 },
 "nbformat": 4,
 "nbformat_minor": 5
}
