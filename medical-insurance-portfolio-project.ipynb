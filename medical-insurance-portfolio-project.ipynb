{
 "cells": [
  {
   "cell_type": "markdown",
   "id": "d88afdb2",
   "metadata": {},
   "source": [
    "# Medical Insurance Project\n",
    "### Take the dataset and do something with it\n",
    "The dataset has these variables:\n",
    "* age: in years (integer)\n",
    "* sex: male/female (string)\n",
    "* bmi: body mass index (float)\n",
    "* children: number of children (integer)\n",
    "* smoker: yes/no (string)\n",
    "* region: southwest, southeast, northwest or northeast (string)\n",
    "* charges: cost of insurance (float)"
   ]
  },
  {
   "cell_type": "markdown",
   "id": "a95cb154",
   "metadata": {},
   "source": [
    "Ideas: \n",
    "* bmi and age vs. charges (which results in higher rates: being old or being obese)\n",
    "    * split into four groups: old and obese, old and not obese, young and obese, young and not obese\n",
    "* which region has the highest bmi"
   ]
  },
  {
   "cell_type": "markdown",
   "id": "a242d374",
   "metadata": {},
   "source": [
    "### Comparing how age and obesity affects insurance cost\n",
    "My hypothesis: young/not obese would result in the lowest cost and old/obese would result in the highest cost; I think that obesity will affect the cost more than age"
   ]
  },
  {
   "cell_type": "code",
   "execution_count": 116,
   "id": "aebd85f9",
   "metadata": {},
   "outputs": [
    {
     "name": "stdout",
     "output_type": "stream",
     "text": [
      "52459 1338\n",
      "The average age of the data set is 39.20702541106129\n",
      "The average cost for old/obese is: 18069.23041601583 \n",
      "The average cost for old/not obese is: 14251.305311368418\n",
      "The average cost for young/obese is: 12644.094051280488\n",
      "The average cost for young/not obese is: 7799.716186499998\n"
     ]
    }
   ],
   "source": [
    "#### import csv\n",
    "\n",
    "#function to find averages\n",
    "def make_average(total, count):\n",
    "        average = total / count\n",
    "        return average\n",
    "\n",
    "#Finding the average age to see what classifies as 'young' and 'old'    \n",
    "with open('insurance.csv') as insurance_data:\n",
    "    reader = csv.DictReader(insurance_data)\n",
    "    total_age = 0\n",
    "    age_count= 0\n",
    "    for row in reader: \n",
    "        total_age += int(row['age'])\n",
    "        age_count += 1\n",
    "    print(total_age, age_count)\n",
    "    \n",
    "    average_age = make_average(total_age, age_count)\n",
    "    print(\"The average age of the data set is\", average_age)\n",
    "    \n",
    "with open('insurance.csv') as insurance_data:\n",
    "    reader = csv.DictReader(insurance_data)\n",
    "    \n",
    "    # Split data into 4 groups: \n",
    "    ## old_ob (old and obese), old_no_ob (old and not obese), yo_ob (young and obese), yo_no_ob (young and not obese)\n",
    "    def split(data):\n",
    "        old_ob_total = 0\n",
    "        old_ob_count = 0\n",
    "        old_no_ob_total = 0\n",
    "        old_no_ob_count = 0\n",
    "        yo_ob_total = 0\n",
    "        yo_ob_count = 0\n",
    "        yo_no_ob_total = 0\n",
    "        yo_no_ob_count = 0\n",
    "        for row in reader:\n",
    "            if float(row['age']) > 39 and float(row['bmi']) >= 30:\n",
    "                old_ob_total += float(row['charges'])\n",
    "                old_ob_count += 1\n",
    "            elif float(row['age']) > 39 and float(row['bmi']) < 30:\n",
    "                old_no_ob_total += float(row['charges'])\n",
    "                old_no_ob_count += 1\n",
    "            elif float(row['age']) <= 39 and float(row['bmi']) >= 30:\n",
    "                yo_ob_total += float(row['charges'])\n",
    "                yo_ob_count += 1\n",
    "            else:\n",
    "                yo_no_ob_total += float(row['charges'])\n",
    "                yo_no_ob_count += 1\n",
    "        \n",
    "        #finding the cost for each of the groups\n",
    "        old_ob_avg = make_average(old_ob_total, old_ob_count)\n",
    "        old_no_ob_avg = make_average(old_no_ob_total, old_no_ob_count)\n",
    "        yo_ob_avg = make_average(yo_ob_total, yo_ob_count)\n",
    "        yo_no_ob_avg = make_average(yo_no_ob_total, yo_no_ob_count)\n",
    "        \n",
    "        return print(\"The average cost for old/obese is: \" + str(old_ob_avg) + \" \\n\" + \n",
    "                     \"The average cost for old/not obese is: \" + str(old_no_ob_avg) + \"\\n\" +\n",
    "                     \"The average cost for young/obese is: \" + str(yo_ob_avg) + \"\\n\" +\n",
    "                     \"The average cost for young/not obese is: \" + str(yo_no_ob_avg))\n",
    "    split(reader)\n"
   ]
  },
  {
   "cell_type": "markdown",
   "id": "e9c22700",
   "metadata": {},
   "source": [
    "### Results\n",
    "* being old (> 39 years) and obese (bmi >= 30) results in the highest average insurance cost (~18,069 dollars)\n",
    "* being young (<= 39) and not obese (bmi < 30) results in the lowest average insurance cost (~7,800 dollars)\n",
    "\n",
    "Obesity increases cost by ~3,818 dollars for the old group and ~4,844 dollars for the young group.\n",
    "Age increases cost by ~5,425 dollars for the obese group and ~6,452 dollars for the not obese group.\n",
    "\n",
    "Therefore, age increases insurance costs more than obesity."
   ]
  },
  {
   "cell_type": "code",
   "execution_count": null,
   "id": "b6a8561a",
   "metadata": {},
   "outputs": [],
   "source": []
  }
 ],
 "metadata": {
  "kernelspec": {
   "display_name": "Python 3",
   "language": "python",
   "name": "python3"
  },
  "language_info": {
   "codemirror_mode": {
    "name": "ipython",
    "version": 3
   },
   "file_extension": ".py",
   "mimetype": "text/x-python",
   "name": "python",
   "nbconvert_exporter": "python",
   "pygments_lexer": "ipython3",
   "version": "3.8.8"
  }
 },
 "nbformat": 4,
 "nbformat_minor": 5
}
